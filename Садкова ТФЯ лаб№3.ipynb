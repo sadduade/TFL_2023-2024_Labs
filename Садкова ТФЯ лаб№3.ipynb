{
 "cells": [
  {
   "cell_type": "code",
   "execution_count": 1,
   "id": "06a8186a",
   "metadata": {},
   "outputs": [
    {
     "name": "stdout",
     "output_type": "stream",
     "text": [
      "Defaulting to user installation because normal site-packages is not writeable\n",
      "Requirement already satisfied: lark in c:\\users\\пользователь\\appdata\\roaming\\python\\python311\\site-packages (1.1.9)\n"
     ]
    }
   ],
   "source": [
    "!pip3 install lark"
   ]
  },
  {
   "cell_type": "code",
   "execution_count": 2,
   "id": "8726e428",
   "metadata": {},
   "outputs": [],
   "source": [
    "from lark import Lark, Transformer"
   ]
  },
  {
   "cell_type": "code",
   "execution_count": 3,
   "id": "edc005dd",
   "metadata": {},
   "outputs": [],
   "source": [
    "grammar = r\"\"\"\n",
    "    start: html\n",
    "    html: doctype open_tag html_body close_tag\n",
    "    doctype: \"<!DOCTYPE html>\"\n",
    "    open_tag: \"<\" TAG_NAME attributes \">\"\n",
    "    close_tag: \"</\" TAG_NAME \">\"\n",
    "    html_body: head body\n",
    "    head: \"<head>\" head_content \"</head>\"\n",
    "    head_content: (title | meta | script | link)*\n",
    "    title: \"<title>\" TEXT \"</title>\"\n",
    "    meta: \"<meta\" attributes \">\"\n",
    "    script: \"<script\" attributes \">\" TEXT \"</script>\"\n",
    "    link: \"<link\" attributes \"/>\"\n",
    "    body: \"<body>\" body_content \"</body>\"\n",
    "    body_content: (element | TEXT)*\n",
    "    element: open_tag body_content close_tag\n",
    "    attributes: attribute*\n",
    "    attribute: TAG_NAME \"=\" STRING\n",
    "    TAG_NAME: /[a-zA-Z][a-zA-Z0-9]*/\n",
    "    STRING: /\"[^\"]*\"/\n",
    "    TEXT: /[^\\n<>]+/\n",
    "    %ignore /\\s+/\n",
    "\"\"\"\n",
    "\n",
    "class MyTransformer(Transformer): # для возврата первого элемента списка после разбора\n",
    "    def start(self, items):\n",
    "        return items[0]\n",
    "\n",
    "parser = Lark(grammar, parser='lalr', transformer=MyTransformer())\n",
    "\n",
    "def parse_html(input_str):\n",
    "    return parser.parse(input_str)"
   ]
  },
  {
   "cell_type": "code",
   "execution_count": 5,
   "id": "9978973d",
   "metadata": {},
   "outputs": [
    {
     "name": "stdout",
     "output_type": "stream",
     "text": [
      "Tree(Token('RULE', 'html'), [Tree(Token('RULE', 'doctype'), []), Tree(Token('RULE', 'open_tag'), [Token('TAG_NAME', 'html'), Tree(Token('RULE', 'attributes'), [])]), Tree(Token('RULE', 'html_body'), [Tree(Token('RULE', 'head'), [Tree(Token('RULE', 'head_content'), [Tree(Token('RULE', 'title'), [Token('TEXT', 'Hello, World!')])])]), Tree(Token('RULE', 'body'), [Tree(Token('RULE', 'body_content'), [Tree(Token('RULE', 'element'), [Tree(Token('RULE', 'open_tag'), [Token('TAG_NAME', 'h1'), Tree(Token('RULE', 'attributes'), [])]), Tree(Token('RULE', 'body_content'), [Token('TEXT', 'Welcome to my website!')]), Tree(Token('RULE', 'close_tag'), [Token('TAG_NAME', 'h1')])])])])]), Tree(Token('RULE', 'close_tag'), [Token('TAG_NAME', 'html')])])\n"
     ]
    }
   ],
   "source": [
    "# Пример использования\n",
    "if __name__ == \"__main__\":\n",
    "    html_str = \"<!DOCTYPE html><html><head><title>Hello, World!</title></head><body><h1>Welcome to my website!</h1></body></html>\"\n",
    "    parsed_html = parse_html(html_str)\n",
    "    print(parsed_html)"
   ]
  }
 ],
 "metadata": {
  "kernelspec": {
   "display_name": "Python 3 (ipykernel)",
   "language": "python",
   "name": "python3"
  },
  "language_info": {
   "codemirror_mode": {
    "name": "ipython",
    "version": 3
   },
   "file_extension": ".py",
   "mimetype": "text/x-python",
   "name": "python",
   "nbconvert_exporter": "python",
   "pygments_lexer": "ipython3",
   "version": "3.11.4"
  }
 },
 "nbformat": 4,
 "nbformat_minor": 5
}
