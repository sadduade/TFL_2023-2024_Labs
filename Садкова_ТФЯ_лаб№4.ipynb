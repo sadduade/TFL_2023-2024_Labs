{
  "nbformat": 4,
  "nbformat_minor": 0,
  "metadata": {
    "colab": {
      "provenance": []
    },
    "kernelspec": {
      "name": "python3",
      "display_name": "Python 3"
    },
    "language_info": {
      "name": "python"
    }
  },
  "cells": [
    {
      "cell_type": "code",
      "execution_count": 1,
      "metadata": {
        "colab": {
          "base_uri": "https://localhost:8080/"
        },
        "id": "zzdCzFpnE8K6",
        "outputId": "5d9b8523-4df0-479a-9072-a2ef844e5653"
      },
      "outputs": [
        {
          "output_type": "stream",
          "name": "stdout",
          "text": [
            "Collecting conllu\n",
            "  Downloading conllu-4.5.3-py2.py3-none-any.whl (16 kB)\n",
            "Installing collected packages: conllu\n",
            "Successfully installed conllu-4.5.3\n"
          ]
        }
      ],
      "source": [
        "!pip install conllu"
      ]
    },
    {
      "cell_type": "code",
      "source": [
        "!pip install --force-reinstall --no-dependencies \"scikit-learn==0.24.2\""
      ],
      "metadata": {
        "colab": {
          "base_uri": "https://localhost:8080/"
        },
        "id": "bPpK0AEpFK5h",
        "outputId": "465c514d-0e3b-4173-edcf-8562cd652a41"
      },
      "execution_count": 2,
      "outputs": [
        {
          "output_type": "stream",
          "name": "stdout",
          "text": [
            "Collecting scikit-learn==0.24.2\n",
            "  Downloading scikit-learn-0.24.2.tar.gz (7.5 MB)\n",
            "\u001b[2K     \u001b[90m━━━━━━━━━━━━━━━━━━━━━━━━━━━━━━━━━━━━━━━━\u001b[0m \u001b[32m7.5/7.5 MB\u001b[0m \u001b[31m41.1 MB/s\u001b[0m eta \u001b[36m0:00:00\u001b[0m\n",
            "\u001b[?25h  Installing build dependencies ... \u001b[?25l\u001b[?25hdone\n",
            "  Getting requirements to build wheel ... \u001b[?25l\u001b[?25hdone\n",
            "  \u001b[1;31merror\u001b[0m: \u001b[1msubprocess-exited-with-error\u001b[0m\n",
            "  \n",
            "  \u001b[31m×\u001b[0m \u001b[32mPreparing metadata \u001b[0m\u001b[1;32m(\u001b[0m\u001b[32mpyproject.toml\u001b[0m\u001b[1;32m)\u001b[0m did not run successfully.\n",
            "  \u001b[31m│\u001b[0m exit code: \u001b[1;36m1\u001b[0m\n",
            "  \u001b[31m╰─>\u001b[0m See above for output.\n",
            "  \n",
            "  \u001b[1;35mnote\u001b[0m: This error originates from a subprocess, and is likely not a problem with pip.\n",
            "  Preparing metadata (pyproject.toml) ... \u001b[?25l\u001b[?25herror\n",
            "\u001b[1;31merror\u001b[0m: \u001b[1mmetadata-generation-failed\u001b[0m\n",
            "\n",
            "\u001b[31m×\u001b[0m Encountered error while generating package metadata.\n",
            "\u001b[31m╰─>\u001b[0m See above for output.\n",
            "\n",
            "\u001b[1;35mnote\u001b[0m: This is an issue with the package mentioned above, not pip.\n",
            "\u001b[1;36mhint\u001b[0m: See above for details.\n"
          ]
        }
      ]
    },
    {
      "cell_type": "code",
      "source": [
        "!pip install sklearn_crfsuite"
      ],
      "metadata": {
        "colab": {
          "base_uri": "https://localhost:8080/"
        },
        "id": "_oII_-szF15A",
        "outputId": "e5d67f6e-f4a9-4902-9d63-a3b4df7588f4"
      },
      "execution_count": 3,
      "outputs": [
        {
          "output_type": "stream",
          "name": "stdout",
          "text": [
            "Collecting sklearn_crfsuite\n",
            "  Downloading sklearn_crfsuite-0.3.6-py2.py3-none-any.whl (12 kB)\n",
            "Collecting python-crfsuite>=0.8.3 (from sklearn_crfsuite)\n",
            "  Downloading python_crfsuite-0.9.10-cp310-cp310-manylinux_2_17_x86_64.manylinux2014_x86_64.whl (1.1 MB)\n",
            "\u001b[2K     \u001b[90m━━━━━━━━━━━━━━━━━━━━━━━━━━━━━━━━━━━━━━━━\u001b[0m \u001b[32m1.1/1.1 MB\u001b[0m \u001b[31m5.5 MB/s\u001b[0m eta \u001b[36m0:00:00\u001b[0m\n",
            "\u001b[?25hRequirement already satisfied: six in /usr/local/lib/python3.10/dist-packages (from sklearn_crfsuite) (1.16.0)\n",
            "Requirement already satisfied: tabulate in /usr/local/lib/python3.10/dist-packages (from sklearn_crfsuite) (0.9.0)\n",
            "Requirement already satisfied: tqdm>=2.0 in /usr/local/lib/python3.10/dist-packages (from sklearn_crfsuite) (4.66.2)\n",
            "Installing collected packages: python-crfsuite, sklearn_crfsuite\n",
            "Successfully installed python-crfsuite-0.9.10 sklearn_crfsuite-0.3.6\n"
          ]
        }
      ]
    },
    {
      "cell_type": "code",
      "source": [
        "import conllu\n",
        "from conllu import parse, parse_incr\n",
        "from io import open\n",
        "\n",
        "from collections import Counter\n",
        "from sklearn.metrics import confusion_matrix, ConfusionMatrixDisplay\n",
        "from sklearn.metrics import classification_report\n",
        "from sklearn.preprocessing import MultiLabelBinarizer\n",
        "import matplotlib.pyplot as plt\n",
        "\n",
        "import sklearn_crfsuite\n",
        "from sklearn_crfsuite import scorers\n",
        "from sklearn_crfsuite import metrics"
      ],
      "metadata": {
        "id": "aeLAQCzkF8ZJ"
      },
      "execution_count": 4,
      "outputs": []
    },
    {
      "cell_type": "code",
      "source": [
        "#  корпус SynTagRus\n",
        "!wget https://raw.githubusercontent.com/UniversalDependencies/UD_Russian-SynTagRus/master/ru_syntagrus-ud-train-a.conllu\n",
        "!wget https://raw.githubusercontent.com/UniversalDependencies/UD_Russian-SynTagRus/master/ru_syntagrus-ud-test.conllu"
      ],
      "metadata": {
        "colab": {
          "base_uri": "https://localhost:8080/"
        },
        "id": "r2G9pntxF9xm",
        "outputId": "14dbcf42-79d0-4b9c-d878-fe8e22f0fa5a"
      },
      "execution_count": 5,
      "outputs": [
        {
          "output_type": "stream",
          "name": "stdout",
          "text": [
            "--2024-03-20 23:21:40--  https://raw.githubusercontent.com/UniversalDependencies/UD_Russian-SynTagRus/master/ru_syntagrus-ud-train-a.conllu\n",
            "Resolving raw.githubusercontent.com (raw.githubusercontent.com)... 185.199.110.133, 185.199.111.133, 185.199.108.133, ...\n",
            "Connecting to raw.githubusercontent.com (raw.githubusercontent.com)|185.199.110.133|:443... connected.\n",
            "HTTP request sent, awaiting response... 200 OK\n",
            "Length: 40736599 (39M) [text/plain]\n",
            "Saving to: ‘ru_syntagrus-ud-train-a.conllu’\n",
            "\n",
            "ru_syntagrus-ud-tra 100%[===================>]  38.85M   119MB/s    in 0.3s    \n",
            "\n",
            "2024-03-20 23:21:43 (119 MB/s) - ‘ru_syntagrus-ud-train-a.conllu’ saved [40736599/40736599]\n",
            "\n",
            "--2024-03-20 23:21:43--  https://raw.githubusercontent.com/UniversalDependencies/UD_Russian-SynTagRus/master/ru_syntagrus-ud-test.conllu\n",
            "Resolving raw.githubusercontent.com (raw.githubusercontent.com)... 185.199.108.133, 185.199.109.133, 185.199.110.133, ...\n",
            "Connecting to raw.githubusercontent.com (raw.githubusercontent.com)|185.199.108.133|:443... connected.\n",
            "HTTP request sent, awaiting response... 200 OK\n",
            "Length: 14970966 (14M) [text/plain]\n",
            "Saving to: ‘ru_syntagrus-ud-test.conllu’\n",
            "\n",
            "ru_syntagrus-ud-tes 100%[===================>]  14.28M  --.-KB/s    in 0.1s    \n",
            "\n",
            "2024-03-20 23:21:45 (95.9 MB/s) - ‘ru_syntagrus-ud-test.conllu’ saved [14970966/14970966]\n",
            "\n"
          ]
        }
      ]
    },
    {
      "cell_type": "code",
      "source": [
        "def read_conllu_file(data_file_path):\n",
        "    sentences = []\n",
        "    current_sentence = []\n",
        "\n",
        "    with open(data_file_path, \"r\", encoding=\"utf8\") as file:\n",
        "        for line in file:\n",
        "            stripped_line = line.strip()\n",
        "            if stripped_line:\n",
        "                current_sentence.append(stripped_line)\n",
        "            elif current_sentence:\n",
        "                sentences.append(current_sentence)\n",
        "                current_sentence = []\n",
        "\n",
        "    # добавляем последнее предложение, если оно существует\n",
        "    if current_sentence:\n",
        "        sentences.append(current_sentence)\n",
        "\n",
        "    return sentences\n",
        "\n",
        "# путь к обучающему набору данных\n",
        "training_data_path = \"ru_syntagrus-ud-train-a.conllu\"\n",
        "sentences = read_conllu_file(training_data_path)\n",
        "print(\"\\n\".join(sentences[5]))"
      ],
      "metadata": {
        "colab": {
          "base_uri": "https://localhost:8080/"
        },
        "id": "Li_ZNSPpOauq",
        "outputId": "1d117851-fee0-4d46-f930-857a3383dde8"
      },
      "execution_count": 6,
      "outputs": [
        {
          "output_type": "stream",
          "name": "stdout",
          "text": [
            "# sent_id = 2003Anketa.xml_6\n",
            "# text = У двери стоял стол секретарши, на столе - пишущая машинка с широкой кареткой.\n",
            "1\tУ\tу\tADP\t_\t_\t2\tcase\t2:case\t_\n",
            "2\tдвери\tдверь\tNOUN\t_\tAnimacy=Inan|Case=Gen|Gender=Fem|Number=Sing\t3\tobl\t3:obl:у:gen\t_\n",
            "3\tстоял\tстоять\tVERB\t_\tAspect=Imp|Gender=Masc|Mood=Ind|Number=Sing|Tense=Past|VerbForm=Fin|Voice=Act\t0\troot\t0:root\t_\n",
            "4\tстол\tстол\tNOUN\t_\tAnimacy=Inan|Case=Nom|Gender=Masc|Number=Sing\t3\tnsubj\t3:nsubj\t_\n",
            "5\tсекретарши\tсекретарша\tNOUN\t_\tAnimacy=Anim|Case=Gen|Gender=Fem|Number=Sing\t4\tnmod\t4:nmod:gen\tSpaceAfter=No\n",
            "6\t,\t,\tPUNCT\t_\t_\t8\tpunct\t8:punct\t_\n",
            "7\tна\tна\tADP\t_\t_\t8\tcase\t8:case\t_\n",
            "8\tстоле\tстол\tNOUN\t_\tAnimacy=Inan|Case=Loc|Gender=Masc|Number=Sing\t3\tconj\t0:root|3:conj\t_\n",
            "9\t-\t-\tPUNCT\t_\t_\t11\tpunct\t11:punct\t_\n",
            "10\tпишущая\tписать\tVERB\t_\tAspect=Imp|Case=Nom|Gender=Fem|Number=Sing|Tense=Pres|VerbForm=Part|Voice=Act\t11\tamod\t11:amod\t_\n",
            "11\tмашинка\tмашинка\tNOUN\t_\tAnimacy=Inan|Case=Nom|Gender=Fem|Number=Sing\t8\tnsubj\t8:nsubj\t_\n",
            "12\tс\tс\tADP\t_\t_\t14\tcase\t14:case\t_\n",
            "13\tширокой\tширокий\tADJ\t_\tCase=Ins|Degree=Pos|Gender=Fem|Number=Sing\t14\tamod\t14:amod\t_\n",
            "14\tкареткой\tкаретка\tNOUN\t_\tAnimacy=Inan|Case=Ins|Gender=Fem|Number=Sing\t11\tnmod\t11:nmod:с:ins\tSpaceAfter=No\n",
            "15\t.\t.\tPUNCT\t_\t_\t3\tpunct\t3:punct\t_\n"
          ]
        }
      ]
    },
    {
      "cell_type": "code",
      "source": [
        "# превращаем в список\n",
        "with open(\"ru_syntagrus-ud-train-a.conllu\", \"r\", encoding=\"utf-8\") as f:\n",
        "    for tokenlist in parse_incr(f):\n",
        "      print(list((tokenlist)))\n",
        "      break"
      ],
      "metadata": {
        "colab": {
          "base_uri": "https://localhost:8080/"
        },
        "id": "k3u_lIQuHcLF",
        "outputId": "d7f449b9-73d6-464d-996c-df7f836d5d2d"
      },
      "execution_count": 7,
      "outputs": [
        {
          "output_type": "stream",
          "name": "stdout",
          "text": [
            "[{'id': 1, 'form': 'Анкета', 'lemma': 'анкета', 'upos': 'NOUN', 'xpos': None, 'feats': {'Animacy': 'Inan', 'Case': 'Nom', 'Gender': 'Fem', 'Number': 'Sing'}, 'head': 0, 'deprel': 'root', 'deps': [('root', 0)], 'misc': {'SpaceAfter': 'No'}}, {'id': 2, 'form': '.', 'lemma': '.', 'upos': 'PUNCT', 'xpos': None, 'feats': None, 'head': 1, 'deprel': 'punct', 'deps': [('punct', 1)], 'misc': None}]\n"
          ]
        }
      ]
    },
    {
      "cell_type": "code",
      "source": [
        "# indexing\n",
        "with open(\"ru_syntagrus-ud-train-a.conllu\", \"r\", encoding=\"utf-8\") as f:\n",
        "    for tokenlist in parse_incr(f):\n",
        "      print(tokenlist[0], tokenlist[0]['upos'])\n",
        "      break"
      ],
      "metadata": {
        "colab": {
          "base_uri": "https://localhost:8080/"
        },
        "id": "-24mAfEYKpMj",
        "outputId": "37323c12-0c66-48bd-fe12-6fc7ee8389f3"
      },
      "execution_count": 8,
      "outputs": [
        {
          "output_type": "stream",
          "name": "stdout",
          "text": [
            "Анкета NOUN\n"
          ]
        }
      ]
    },
    {
      "cell_type": "code",
      "source": [
        "def word2features(sent, index):\n",
        "    word = sent[index]['form']\n",
        "\n",
        "    # основные признаки слова\n",
        "    features = {\n",
        "        'bias': 1.0,\n",
        "        'word.lower': word.lower(),\n",
        "        'word.suffix3': word[-3:],\n",
        "        'word.suffix2': word[-2:],\n",
        "        'word.isupper': word.isupper(),\n",
        "        'word.istitle': word.istitle(),\n",
        "        'word.isdigit': word.isdigit(),\n",
        "    }\n",
        "\n",
        "    # признаки предыдущего слова\n",
        "    if index > 0:\n",
        "        prev_word = sent[index-1]['form']\n",
        "        features.update({\n",
        "            'prev_word.lower': prev_word.lower(),\n",
        "            'prev_word.istitle': prev_word.istitle(),\n",
        "            'prev_word.isupper': prev_word.isupper(),\n",
        "        })\n",
        "    else:\n",
        "        # для начала предложения\n",
        "        features['start_of_sentence'] = True\n",
        "\n",
        "    # признаки следующего слова\n",
        "    if index < len(sent) - 1:\n",
        "        next_word = sent[index+1]['form']\n",
        "        features.update({\n",
        "            'next_word.lower': next_word.lower(),\n",
        "            'next_word.istitle': next_word.istitle(),\n",
        "            'next_word.isupper': next_word.isupper(),\n",
        "        })\n",
        "    else:\n",
        "        # для конца предложения\n",
        "        features['end_of_sentence'] = True\n",
        "\n",
        "    return features"
      ],
      "metadata": {
        "id": "LtU7hlSeKw5E"
      },
      "execution_count": 9,
      "outputs": []
    },
    {
      "cell_type": "code",
      "source": [
        "def sent2features(sent): # обработка предложений\n",
        "    return [word2features(sent, index) for index in range(len(sent))]\n",
        "\n",
        "def sent2labels(sent):  # достаем pos-тэг\n",
        "    return [word['upos'] for word in sent]"
      ],
      "metadata": {
        "id": "Sd-16V0xKz1g"
      },
      "execution_count": 13,
      "outputs": []
    },
    {
      "cell_type": "code",
      "source": [
        "X_train, y_train, X_test, y_test = [], [], [], []"
      ],
      "metadata": {
        "id": "vMhCHb9RK3Xq"
      },
      "execution_count": 14,
      "outputs": []
    },
    {
      "cell_type": "code",
      "source": [
        "with open(\"ru_syntagrus-ud-train-a.conllu\", \"r\", encoding=\"utf-8\") as f:\n",
        "    for tokenlist in parse_incr(f):\n",
        "      X_train.append(sent2features(tokenlist))\n",
        "      y_train.append(sent2labels(tokenlist))"
      ],
      "metadata": {
        "id": "veTlfsDEK6UP"
      },
      "execution_count": 15,
      "outputs": []
    },
    {
      "cell_type": "code",
      "source": [
        "with open(\"ru_syntagrus-ud-test.conllu\", \"r\", encoding=\"utf-8\") as f:\n",
        "    for tokenlist in parse_incr(f):\n",
        "      X_test.append(sent2features(tokenlist))\n",
        "      y_test.append(sent2labels(tokenlist))"
      ],
      "metadata": {
        "id": "_pjEZRavK9f1"
      },
      "execution_count": 16,
      "outputs": []
    },
    {
      "cell_type": "code",
      "source": [
        "print(X_train[0])\n",
        "print(y_train[0])"
      ],
      "metadata": {
        "colab": {
          "base_uri": "https://localhost:8080/"
        },
        "id": "UG2ZH0N_LAPK",
        "outputId": "46a662a2-6a87-4b64-d93e-462561c2310f"
      },
      "execution_count": 17,
      "outputs": [
        {
          "output_type": "stream",
          "name": "stdout",
          "text": [
            "[{'bias': 1.0, 'word.lower': 'анкета', 'word.suffix3': 'ета', 'word.suffix2': 'та', 'word.isupper': False, 'word.istitle': True, 'word.isdigit': False, 'start_of_sentence': True, 'next_word.lower': '.', 'next_word.istitle': False, 'next_word.isupper': False}, {'bias': 1.0, 'word.lower': '.', 'word.suffix3': '.', 'word.suffix2': '.', 'word.isupper': False, 'word.istitle': False, 'word.isdigit': False, 'prev_word.lower': 'анкета', 'prev_word.istitle': True, 'prev_word.isupper': False, 'end_of_sentence': True}]\n",
            "['NOUN', 'PUNCT']\n"
          ]
        }
      ]
    },
    {
      "cell_type": "code",
      "source": [
        "crf = sklearn_crfsuite.CRF(algorithm='lbfgs', c1=0.1, c2=0.001, max_iterations=50, all_possible_transitions=True)\n",
        "\n",
        "# обучение модели\n",
        "crf.fit(X_train, y_train)\n",
        "\n",
        "# предсказания на тестовом наборе данных\n",
        "predictions = crf.predict(X_test)"
      ],
      "metadata": {
        "id": "HqKRpdb1LFNn"
      },
      "execution_count": 18,
      "outputs": []
    },
    {
      "cell_type": "code",
      "source": [
        "y_preds = crf.predict(X_test)"
      ],
      "metadata": {
        "id": "09EAPuAgLIDF"
      },
      "execution_count": 19,
      "outputs": []
    },
    {
      "cell_type": "code",
      "source": [
        "labels = list(crf.classes_)"
      ],
      "metadata": {
        "id": "pcSEsrxyLL-R"
      },
      "execution_count": 20,
      "outputs": []
    },
    {
      "cell_type": "code",
      "source": [
        "metrics.flat_f1_score(y_test, y_preds,\n",
        "                      average='weighted', labels=labels)"
      ],
      "metadata": {
        "colab": {
          "base_uri": "https://localhost:8080/"
        },
        "id": "FEjN4o58LQbm",
        "outputId": "680064cd-5148-4d5b-af04-e6468f01309b"
      },
      "execution_count": 21,
      "outputs": [
        {
          "output_type": "execute_result",
          "data": {
            "text/plain": [
              "0.9658665358330675"
            ]
          },
          "metadata": {},
          "execution_count": 21
        }
      ]
    },
    {
      "cell_type": "code",
      "source": [
        "from sklearn_crfsuite.utils import flatten\n",
        "from sklearn import metrics as skmetrics\n",
        "\n",
        "y_test_flat = flatten(y_test)\n",
        "y_pred_flat = flatten(y_preds)\n",
        "\n",
        "print(skmetrics.classification_report(y_test_flat, y_pred_flat, labels = labels))"
      ],
      "metadata": {
        "colab": {
          "base_uri": "https://localhost:8080/"
        },
        "id": "yyNNAKe_LSc3",
        "outputId": "af8c16fc-1edd-4725-de6d-84fc3b5f21af"
      },
      "execution_count": 22,
      "outputs": [
        {
          "output_type": "stream",
          "name": "stdout",
          "text": [
            "              precision    recall  f1-score   support\n",
            "\n",
            "        NOUN       0.98      0.98      0.98     36568\n",
            "       PUNCT       1.00      1.00      1.00     29463\n",
            "         ADJ       0.91      0.95      0.93     14471\n",
            "       PROPN       0.95      0.95      0.95      5883\n",
            "         AUX       0.93      0.93      0.93      1518\n",
            "        VERB       0.97      0.95      0.96     18146\n",
            "         ADP       1.00      1.00      1.00     15062\n",
            "         ADV       0.93      0.94      0.94      8085\n",
            "       CCONJ       0.95      0.98      0.96      5736\n",
            "        PART       0.95      0.88      0.91      4921\n",
            "        PRON       0.96      0.95      0.95      8015\n",
            "         DET       0.94      0.88      0.91      4094\n",
            "       SCONJ       0.90      0.95      0.92      2992\n",
            "         NUM       0.95      0.94      0.95      2528\n",
            "           _       1.00      1.00      1.00       271\n",
            "        INTJ       1.00      0.30      0.47        23\n",
            "           X       0.95      0.38      0.54        48\n",
            "         SYM       1.00      1.00      1.00       165\n",
            "\n",
            "    accuracy                           0.97    157989\n",
            "   macro avg       0.96      0.89      0.91    157989\n",
            "weighted avg       0.97      0.97      0.97    157989\n",
            "\n"
          ]
        }
      ]
    }
  ]
}